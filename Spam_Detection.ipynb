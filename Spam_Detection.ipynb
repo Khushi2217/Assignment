{
  "nbformat": 4,
  "nbformat_minor": 0,
  "metadata": {
    "colab": {
      "provenance": [],
      "collapsed_sections": [],
      "authorship_tag": "ABX9TyPKyVwd94fKFegjMUz4Z8JE",
      "include_colab_link": true
    },
    "kernelspec": {
      "name": "python3",
      "display_name": "Python 3"
    },
    "language_info": {
      "name": "python"
    }
  },
  "cells": [
    {
      "cell_type": "markdown",
      "metadata": {
        "id": "view-in-github",
        "colab_type": "text"
      },
      "source": [
        "<a href=\"https://colab.research.google.com/github/Khushi2217/Assignment/blob/main/Spam_Detection.ipynb\" target=\"_parent\"><img src=\"https://colab.research.google.com/assets/colab-badge.svg\" alt=\"Open In Colab\"/></a>"
      ]
    },
    {
      "cell_type": "code",
      "source": [
        "from sklearn.preprocessing import StandardScaler\n",
        "import numpy as np\n",
        "import pandas as pd"
      ],
      "metadata": {
        "id": "E2h9VCuRaKok"
      },
      "execution_count": 1,
      "outputs": []
    },
    {
      "cell_type": "code",
      "execution_count": 2,
      "metadata": {
        "id": "ALYh9njvmbyS",
        "colab": {
          "base_uri": "https://localhost:8080/"
        },
        "outputId": "d89dbb2b-a218-4272-d19b-28b6901f8ce5"
      },
      "outputs": [
        {
          "output_type": "stream",
          "name": "stdout",
          "text": [
            "Looking in indexes: https://pypi.org/simple, https://us-python.pkg.dev/colab-wheels/public/simple/\n",
            "Requirement already satisfied: nltk in /usr/local/lib/python3.7/dist-packages (3.7)\n",
            "Requirement already satisfied: regex>=2021.8.3 in /usr/local/lib/python3.7/dist-packages (from nltk) (2022.6.2)\n",
            "Requirement already satisfied: joblib in /usr/local/lib/python3.7/dist-packages (from nltk) (1.2.0)\n",
            "Requirement already satisfied: tqdm in /usr/local/lib/python3.7/dist-packages (from nltk) (4.64.1)\n",
            "Requirement already satisfied: click in /usr/local/lib/python3.7/dist-packages (from nltk) (7.1.2)\n"
          ]
        }
      ],
      "source": [
        "pip install nltk\n"
      ]
    },
    {
      "cell_type": "code",
      "source": [
        "import nltk"
      ],
      "metadata": {
        "id": "J-OcZNLOwfNu"
      },
      "execution_count": 3,
      "outputs": []
    },
    {
      "cell_type": "code",
      "source": [
        "nltk.download('wordnet')"
      ],
      "metadata": {
        "colab": {
          "base_uri": "https://localhost:8080/"
        },
        "id": "IFiDy5PDwrer",
        "outputId": "5d98ec79-8608-4f22-9702-de8f24a74e06"
      },
      "execution_count": 4,
      "outputs": [
        {
          "output_type": "stream",
          "name": "stderr",
          "text": [
            "[nltk_data] Downloading package wordnet to /root/nltk_data...\n"
          ]
        },
        {
          "output_type": "execute_result",
          "data": {
            "text/plain": [
              "True"
            ]
          },
          "metadata": {},
          "execution_count": 4
        }
      ]
    },
    {
      "cell_type": "code",
      "source": [
        "import pandas as pd"
      ],
      "metadata": {
        "id": "Pl89jmwPz0ND"
      },
      "execution_count": 5,
      "outputs": []
    },
    {
      "cell_type": "code",
      "source": [
        "dt = pd.read_csv('/content/spam.csv.csv', encoding='windows-1252')"
      ],
      "metadata": {
        "id": "H-sP4lbb07dN"
      },
      "execution_count": 6,
      "outputs": []
    },
    {
      "cell_type": "code",
      "source": [
        "dt.head(10)"
      ],
      "metadata": {
        "colab": {
          "base_uri": "https://localhost:8080/",
          "height": 363
        },
        "id": "o100XYBf1xqW",
        "outputId": "20fafd27-e172-4829-cfa4-334c72d7c415"
      },
      "execution_count": 7,
      "outputs": [
        {
          "output_type": "execute_result",
          "data": {
            "text/plain": [
              "   type                                               text\n",
              "0   ham  Go until jurong point, crazy.. Available only ...\n",
              "1   ham                      Ok lar... Joking wif u oni...\n",
              "2  spam  Free entry in 2 a wkly comp to win FA Cup fina...\n",
              "3   ham  U dun say so early hor... U c already then say...\n",
              "4   ham  Nah I don't think he goes to usf, he lives aro...\n",
              "5  spam  FreeMsg Hey there darling it's been 3 week's n...\n",
              "6   ham  Even my brother is not like to speak with me. ...\n",
              "7   ham  As per your request 'Melle Melle (Oru Minnamin...\n",
              "8  spam  WINNER!! As a valued network customer you have...\n",
              "9  spam  Had your mobile 11 months or more? U R entitle..."
            ],
            "text/html": [
              "\n",
              "  <div id=\"df-fd948b3b-64d7-4627-950a-3f2207c891c6\">\n",
              "    <div class=\"colab-df-container\">\n",
              "      <div>\n",
              "<style scoped>\n",
              "    .dataframe tbody tr th:only-of-type {\n",
              "        vertical-align: middle;\n",
              "    }\n",
              "\n",
              "    .dataframe tbody tr th {\n",
              "        vertical-align: top;\n",
              "    }\n",
              "\n",
              "    .dataframe thead th {\n",
              "        text-align: right;\n",
              "    }\n",
              "</style>\n",
              "<table border=\"1\" class=\"dataframe\">\n",
              "  <thead>\n",
              "    <tr style=\"text-align: right;\">\n",
              "      <th></th>\n",
              "      <th>type</th>\n",
              "      <th>text</th>\n",
              "    </tr>\n",
              "  </thead>\n",
              "  <tbody>\n",
              "    <tr>\n",
              "      <th>0</th>\n",
              "      <td>ham</td>\n",
              "      <td>Go until jurong point, crazy.. Available only ...</td>\n",
              "    </tr>\n",
              "    <tr>\n",
              "      <th>1</th>\n",
              "      <td>ham</td>\n",
              "      <td>Ok lar... Joking wif u oni...</td>\n",
              "    </tr>\n",
              "    <tr>\n",
              "      <th>2</th>\n",
              "      <td>spam</td>\n",
              "      <td>Free entry in 2 a wkly comp to win FA Cup fina...</td>\n",
              "    </tr>\n",
              "    <tr>\n",
              "      <th>3</th>\n",
              "      <td>ham</td>\n",
              "      <td>U dun say so early hor... U c already then say...</td>\n",
              "    </tr>\n",
              "    <tr>\n",
              "      <th>4</th>\n",
              "      <td>ham</td>\n",
              "      <td>Nah I don't think he goes to usf, he lives aro...</td>\n",
              "    </tr>\n",
              "    <tr>\n",
              "      <th>5</th>\n",
              "      <td>spam</td>\n",
              "      <td>FreeMsg Hey there darling it's been 3 week's n...</td>\n",
              "    </tr>\n",
              "    <tr>\n",
              "      <th>6</th>\n",
              "      <td>ham</td>\n",
              "      <td>Even my brother is not like to speak with me. ...</td>\n",
              "    </tr>\n",
              "    <tr>\n",
              "      <th>7</th>\n",
              "      <td>ham</td>\n",
              "      <td>As per your request 'Melle Melle (Oru Minnamin...</td>\n",
              "    </tr>\n",
              "    <tr>\n",
              "      <th>8</th>\n",
              "      <td>spam</td>\n",
              "      <td>WINNER!! As a valued network customer you have...</td>\n",
              "    </tr>\n",
              "    <tr>\n",
              "      <th>9</th>\n",
              "      <td>spam</td>\n",
              "      <td>Had your mobile 11 months or more? U R entitle...</td>\n",
              "    </tr>\n",
              "  </tbody>\n",
              "</table>\n",
              "</div>\n",
              "      <button class=\"colab-df-convert\" onclick=\"convertToInteractive('df-fd948b3b-64d7-4627-950a-3f2207c891c6')\"\n",
              "              title=\"Convert this dataframe to an interactive table.\"\n",
              "              style=\"display:none;\">\n",
              "        \n",
              "  <svg xmlns=\"http://www.w3.org/2000/svg\" height=\"24px\"viewBox=\"0 0 24 24\"\n",
              "       width=\"24px\">\n",
              "    <path d=\"M0 0h24v24H0V0z\" fill=\"none\"/>\n",
              "    <path d=\"M18.56 5.44l.94 2.06.94-2.06 2.06-.94-2.06-.94-.94-2.06-.94 2.06-2.06.94zm-11 1L8.5 8.5l.94-2.06 2.06-.94-2.06-.94L8.5 2.5l-.94 2.06-2.06.94zm10 10l.94 2.06.94-2.06 2.06-.94-2.06-.94-.94-2.06-.94 2.06-2.06.94z\"/><path d=\"M17.41 7.96l-1.37-1.37c-.4-.4-.92-.59-1.43-.59-.52 0-1.04.2-1.43.59L10.3 9.45l-7.72 7.72c-.78.78-.78 2.05 0 2.83L4 21.41c.39.39.9.59 1.41.59.51 0 1.02-.2 1.41-.59l7.78-7.78 2.81-2.81c.8-.78.8-2.07 0-2.86zM5.41 20L4 18.59l7.72-7.72 1.47 1.35L5.41 20z\"/>\n",
              "  </svg>\n",
              "      </button>\n",
              "      \n",
              "  <style>\n",
              "    .colab-df-container {\n",
              "      display:flex;\n",
              "      flex-wrap:wrap;\n",
              "      gap: 12px;\n",
              "    }\n",
              "\n",
              "    .colab-df-convert {\n",
              "      background-color: #E8F0FE;\n",
              "      border: none;\n",
              "      border-radius: 50%;\n",
              "      cursor: pointer;\n",
              "      display: none;\n",
              "      fill: #1967D2;\n",
              "      height: 32px;\n",
              "      padding: 0 0 0 0;\n",
              "      width: 32px;\n",
              "    }\n",
              "\n",
              "    .colab-df-convert:hover {\n",
              "      background-color: #E2EBFA;\n",
              "      box-shadow: 0px 1px 2px rgba(60, 64, 67, 0.3), 0px 1px 3px 1px rgba(60, 64, 67, 0.15);\n",
              "      fill: #174EA6;\n",
              "    }\n",
              "\n",
              "    [theme=dark] .colab-df-convert {\n",
              "      background-color: #3B4455;\n",
              "      fill: #D2E3FC;\n",
              "    }\n",
              "\n",
              "    [theme=dark] .colab-df-convert:hover {\n",
              "      background-color: #434B5C;\n",
              "      box-shadow: 0px 1px 3px 1px rgba(0, 0, 0, 0.15);\n",
              "      filter: drop-shadow(0px 1px 2px rgba(0, 0, 0, 0.3));\n",
              "      fill: #FFFFFF;\n",
              "    }\n",
              "  </style>\n",
              "\n",
              "      <script>\n",
              "        const buttonEl =\n",
              "          document.querySelector('#df-fd948b3b-64d7-4627-950a-3f2207c891c6 button.colab-df-convert');\n",
              "        buttonEl.style.display =\n",
              "          google.colab.kernel.accessAllowed ? 'block' : 'none';\n",
              "\n",
              "        async function convertToInteractive(key) {\n",
              "          const element = document.querySelector('#df-fd948b3b-64d7-4627-950a-3f2207c891c6');\n",
              "          const dataTable =\n",
              "            await google.colab.kernel.invokeFunction('convertToInteractive',\n",
              "                                                     [key], {});\n",
              "          if (!dataTable) return;\n",
              "\n",
              "          const docLinkHtml = 'Like what you see? Visit the ' +\n",
              "            '<a target=\"_blank\" href=https://colab.research.google.com/notebooks/data_table.ipynb>data table notebook</a>'\n",
              "            + ' to learn more about interactive tables.';\n",
              "          element.innerHTML = '';\n",
              "          dataTable['output_type'] = 'display_data';\n",
              "          await google.colab.output.renderOutput(dataTable, element);\n",
              "          const docLink = document.createElement('div');\n",
              "          docLink.innerHTML = docLinkHtml;\n",
              "          element.appendChild(docLink);\n",
              "        }\n",
              "      </script>\n",
              "    </div>\n",
              "  </div>\n",
              "  "
            ]
          },
          "metadata": {},
          "execution_count": 7
        }
      ]
    },
    {
      "cell_type": "code",
      "source": [
        " dt['spam'] = dt['type'].map({'spam':1 , 'ham':0}).astype(int)"
      ],
      "metadata": {
        "id": "-F91uHZp3UeJ"
      },
      "execution_count": 8,
      "outputs": []
    },
    {
      "cell_type": "code",
      "source": [
        "dt.head(5)"
      ],
      "metadata": {
        "colab": {
          "base_uri": "https://localhost:8080/",
          "height": 206
        },
        "id": "jPd0eycu4rf5",
        "outputId": "7c942398-90c1-4411-efee-43ecce8cf907"
      },
      "execution_count": 9,
      "outputs": [
        {
          "output_type": "execute_result",
          "data": {
            "text/plain": [
              "   type                                               text  spam\n",
              "0   ham  Go until jurong point, crazy.. Available only ...     0\n",
              "1   ham                      Ok lar... Joking wif u oni...     0\n",
              "2  spam  Free entry in 2 a wkly comp to win FA Cup fina...     1\n",
              "3   ham  U dun say so early hor... U c already then say...     0\n",
              "4   ham  Nah I don't think he goes to usf, he lives aro...     0"
            ],
            "text/html": [
              "\n",
              "  <div id=\"df-efa6cbf1-59d8-403f-933a-c8270579eb0d\">\n",
              "    <div class=\"colab-df-container\">\n",
              "      <div>\n",
              "<style scoped>\n",
              "    .dataframe tbody tr th:only-of-type {\n",
              "        vertical-align: middle;\n",
              "    }\n",
              "\n",
              "    .dataframe tbody tr th {\n",
              "        vertical-align: top;\n",
              "    }\n",
              "\n",
              "    .dataframe thead th {\n",
              "        text-align: right;\n",
              "    }\n",
              "</style>\n",
              "<table border=\"1\" class=\"dataframe\">\n",
              "  <thead>\n",
              "    <tr style=\"text-align: right;\">\n",
              "      <th></th>\n",
              "      <th>type</th>\n",
              "      <th>text</th>\n",
              "      <th>spam</th>\n",
              "    </tr>\n",
              "  </thead>\n",
              "  <tbody>\n",
              "    <tr>\n",
              "      <th>0</th>\n",
              "      <td>ham</td>\n",
              "      <td>Go until jurong point, crazy.. Available only ...</td>\n",
              "      <td>0</td>\n",
              "    </tr>\n",
              "    <tr>\n",
              "      <th>1</th>\n",
              "      <td>ham</td>\n",
              "      <td>Ok lar... Joking wif u oni...</td>\n",
              "      <td>0</td>\n",
              "    </tr>\n",
              "    <tr>\n",
              "      <th>2</th>\n",
              "      <td>spam</td>\n",
              "      <td>Free entry in 2 a wkly comp to win FA Cup fina...</td>\n",
              "      <td>1</td>\n",
              "    </tr>\n",
              "    <tr>\n",
              "      <th>3</th>\n",
              "      <td>ham</td>\n",
              "      <td>U dun say so early hor... U c already then say...</td>\n",
              "      <td>0</td>\n",
              "    </tr>\n",
              "    <tr>\n",
              "      <th>4</th>\n",
              "      <td>ham</td>\n",
              "      <td>Nah I don't think he goes to usf, he lives aro...</td>\n",
              "      <td>0</td>\n",
              "    </tr>\n",
              "  </tbody>\n",
              "</table>\n",
              "</div>\n",
              "      <button class=\"colab-df-convert\" onclick=\"convertToInteractive('df-efa6cbf1-59d8-403f-933a-c8270579eb0d')\"\n",
              "              title=\"Convert this dataframe to an interactive table.\"\n",
              "              style=\"display:none;\">\n",
              "        \n",
              "  <svg xmlns=\"http://www.w3.org/2000/svg\" height=\"24px\"viewBox=\"0 0 24 24\"\n",
              "       width=\"24px\">\n",
              "    <path d=\"M0 0h24v24H0V0z\" fill=\"none\"/>\n",
              "    <path d=\"M18.56 5.44l.94 2.06.94-2.06 2.06-.94-2.06-.94-.94-2.06-.94 2.06-2.06.94zm-11 1L8.5 8.5l.94-2.06 2.06-.94-2.06-.94L8.5 2.5l-.94 2.06-2.06.94zm10 10l.94 2.06.94-2.06 2.06-.94-2.06-.94-.94-2.06-.94 2.06-2.06.94z\"/><path d=\"M17.41 7.96l-1.37-1.37c-.4-.4-.92-.59-1.43-.59-.52 0-1.04.2-1.43.59L10.3 9.45l-7.72 7.72c-.78.78-.78 2.05 0 2.83L4 21.41c.39.39.9.59 1.41.59.51 0 1.02-.2 1.41-.59l7.78-7.78 2.81-2.81c.8-.78.8-2.07 0-2.86zM5.41 20L4 18.59l7.72-7.72 1.47 1.35L5.41 20z\"/>\n",
              "  </svg>\n",
              "      </button>\n",
              "      \n",
              "  <style>\n",
              "    .colab-df-container {\n",
              "      display:flex;\n",
              "      flex-wrap:wrap;\n",
              "      gap: 12px;\n",
              "    }\n",
              "\n",
              "    .colab-df-convert {\n",
              "      background-color: #E8F0FE;\n",
              "      border: none;\n",
              "      border-radius: 50%;\n",
              "      cursor: pointer;\n",
              "      display: none;\n",
              "      fill: #1967D2;\n",
              "      height: 32px;\n",
              "      padding: 0 0 0 0;\n",
              "      width: 32px;\n",
              "    }\n",
              "\n",
              "    .colab-df-convert:hover {\n",
              "      background-color: #E2EBFA;\n",
              "      box-shadow: 0px 1px 2px rgba(60, 64, 67, 0.3), 0px 1px 3px 1px rgba(60, 64, 67, 0.15);\n",
              "      fill: #174EA6;\n",
              "    }\n",
              "\n",
              "    [theme=dark] .colab-df-convert {\n",
              "      background-color: #3B4455;\n",
              "      fill: #D2E3FC;\n",
              "    }\n",
              "\n",
              "    [theme=dark] .colab-df-convert:hover {\n",
              "      background-color: #434B5C;\n",
              "      box-shadow: 0px 1px 3px 1px rgba(0, 0, 0, 0.15);\n",
              "      filter: drop-shadow(0px 1px 2px rgba(0, 0, 0, 0.3));\n",
              "      fill: #FFFFFF;\n",
              "    }\n",
              "  </style>\n",
              "\n",
              "      <script>\n",
              "        const buttonEl =\n",
              "          document.querySelector('#df-efa6cbf1-59d8-403f-933a-c8270579eb0d button.colab-df-convert');\n",
              "        buttonEl.style.display =\n",
              "          google.colab.kernel.accessAllowed ? 'block' : 'none';\n",
              "\n",
              "        async function convertToInteractive(key) {\n",
              "          const element = document.querySelector('#df-efa6cbf1-59d8-403f-933a-c8270579eb0d');\n",
              "          const dataTable =\n",
              "            await google.colab.kernel.invokeFunction('convertToInteractive',\n",
              "                                                     [key], {});\n",
              "          if (!dataTable) return;\n",
              "\n",
              "          const docLinkHtml = 'Like what you see? Visit the ' +\n",
              "            '<a target=\"_blank\" href=https://colab.research.google.com/notebooks/data_table.ipynb>data table notebook</a>'\n",
              "            + ' to learn more about interactive tables.';\n",
              "          element.innerHTML = '';\n",
              "          dataTable['output_type'] = 'display_data';\n",
              "          await google.colab.output.renderOutput(dataTable, element);\n",
              "          const docLink = document.createElement('div');\n",
              "          docLink.innerHTML = docLinkHtml;\n",
              "          element.appendChild(docLink);\n",
              "        }\n",
              "      </script>\n",
              "    </div>\n",
              "  </div>\n",
              "  "
            ]
          },
          "metadata": {},
          "execution_count": 9
        }
      ]
    },
    {
      "cell_type": "code",
      "source": [
        "print('Columns in our dataset are:-')\n",
        "for col in dt.columns:\n",
        "  print(col)"
      ],
      "metadata": {
        "colab": {
          "base_uri": "https://localhost:8080/"
        },
        "id": "fI3mQWT44vXl",
        "outputId": "61b05df7-cc62-47e4-d92e-5c54b3f5cc04"
      },
      "execution_count": 10,
      "outputs": [
        {
          "output_type": "stream",
          "name": "stdout",
          "text": [
            "Columns in our dataset are:-\n",
            "type\n",
            "text\n",
            "spam\n"
          ]
        }
      ]
    },
    {
      "cell_type": "code",
      "source": [
        "t = len(dt['type'])\n",
        "print('no. of rows in review column: ', t)\n"
      ],
      "metadata": {
        "colab": {
          "base_uri": "https://localhost:8080/"
        },
        "id": "pG96fA0v5JY6",
        "outputId": "1704a3f8-e367-49e4-b96d-157adecfb803"
      },
      "execution_count": 11,
      "outputs": [
        {
          "output_type": "stream",
          "name": "stdout",
          "text": [
            "no. of rows in review column:  116\n"
          ]
        }
      ]
    },
    {
      "cell_type": "code",
      "source": [
        "#Tokenisation\n",
        "#before\n",
        "dt['text'][4]"
      ],
      "metadata": {
        "colab": {
          "base_uri": "https://localhost:8080/",
          "height": 35
        },
        "id": "IQmgy13A6UOL",
        "outputId": "b21f12c6-57f2-42da-8b85-d331e0b4e5d1"
      },
      "execution_count": 12,
      "outputs": [
        {
          "output_type": "execute_result",
          "data": {
            "text/plain": [
              "\"Nah I don't think he goes to usf, he lives around here though\""
            ],
            "application/vnd.google.colaboratory.intrinsic+json": {
              "type": "string"
            }
          },
          "metadata": {},
          "execution_count": 12
        }
      ]
    },
    {
      "cell_type": "code",
      "source": [
        " def tokenizer(text):\n",
        "   return text.split()"
      ],
      "metadata": {
        "id": "zUDt5FoY6ZdE"
      },
      "execution_count": 13,
      "outputs": []
    },
    {
      "cell_type": "code",
      "source": [
        "dt['text']=dt['text'].apply(tokenizer)"
      ],
      "metadata": {
        "id": "p3X1Cc4T63uO"
      },
      "execution_count": 14,
      "outputs": []
    },
    {
      "cell_type": "code",
      "source": [
        "dt['text'][4]"
      ],
      "metadata": {
        "colab": {
          "base_uri": "https://localhost:8080/"
        },
        "id": "kDtG-Ji17DvF",
        "outputId": "707f34b5-2833-4c3a-fa36-f02725db6fc6"
      },
      "execution_count": 15,
      "outputs": [
        {
          "output_type": "execute_result",
          "data": {
            "text/plain": [
              "['Nah',\n",
              " 'I',\n",
              " \"don't\",\n",
              " 'think',\n",
              " 'he',\n",
              " 'goes',\n",
              " 'to',\n",
              " 'usf,',\n",
              " 'he',\n",
              " 'lives',\n",
              " 'around',\n",
              " 'here',\n",
              " 'though']"
            ]
          },
          "metadata": {},
          "execution_count": 15
        }
      ]
    },
    {
      "cell_type": "code",
      "source": [
        "#stemming\n",
        "dt['text'][4] #before"
      ],
      "metadata": {
        "colab": {
          "base_uri": "https://localhost:8080/"
        },
        "id": "rLvWsf9Q97BO",
        "outputId": "92276c2c-9774-41cf-f3b0-bf599973e78b"
      },
      "execution_count": 16,
      "outputs": [
        {
          "output_type": "execute_result",
          "data": {
            "text/plain": [
              "['Nah',\n",
              " 'I',\n",
              " \"don't\",\n",
              " 'think',\n",
              " 'he',\n",
              " 'goes',\n",
              " 'to',\n",
              " 'usf,',\n",
              " 'he',\n",
              " 'lives',\n",
              " 'around',\n",
              " 'here',\n",
              " 'though']"
            ]
          },
          "metadata": {},
          "execution_count": 16
        }
      ]
    },
    {
      "cell_type": "code",
      "source": [
        "#after\n",
        "from nltk.stem.snowball import SnowballStemmer\n",
        "porter = SnowballStemmer(\"english\", ignore_stopwords=False)"
      ],
      "metadata": {
        "id": "TKwbjIaB9_e0"
      },
      "execution_count": 17,
      "outputs": []
    },
    {
      "cell_type": "code",
      "source": [
        "def stem_it(text):\n",
        "  return [porter.stem(word) for word in text]\n",
        "  "
      ],
      "metadata": {
        "id": "Mgau2NsA-Ym6"
      },
      "execution_count": 18,
      "outputs": []
    },
    {
      "cell_type": "code",
      "source": [
        "dt['text'][6]"
      ],
      "metadata": {
        "colab": {
          "base_uri": "https://localhost:8080/"
        },
        "id": "-6sQ7hsJ_UqQ",
        "outputId": "b2b2e595-0869-44c9-b5ae-1899639176a5"
      },
      "execution_count": 19,
      "outputs": [
        {
          "output_type": "execute_result",
          "data": {
            "text/plain": [
              "['Even',\n",
              " 'my',\n",
              " 'brother',\n",
              " 'is',\n",
              " 'not',\n",
              " 'like',\n",
              " 'to',\n",
              " 'speak',\n",
              " 'with',\n",
              " 'me.',\n",
              " 'They',\n",
              " 'treat',\n",
              " 'me',\n",
              " 'like',\n",
              " 'aids',\n",
              " 'patent.']"
            ]
          },
          "metadata": {},
          "execution_count": 19
        }
      ]
    },
    {
      "cell_type": "code",
      "source": [
        "dt['text'] = dt['text'].apply(stem_it)"
      ],
      "metadata": {
        "id": "388iYIRT_ZFX"
      },
      "execution_count": 20,
      "outputs": []
    },
    {
      "cell_type": "code",
      "source": [
        "dt['text'][4]"
      ],
      "metadata": {
        "colab": {
          "base_uri": "https://localhost:8080/"
        },
        "id": "MYrARAjTBd-r",
        "outputId": "623be9e0-3acc-442a-9ffa-c65e77dcdf0d"
      },
      "execution_count": 21,
      "outputs": [
        {
          "output_type": "execute_result",
          "data": {
            "text/plain": [
              "['nah',\n",
              " 'i',\n",
              " \"don't\",\n",
              " 'think',\n",
              " 'he',\n",
              " 'goe',\n",
              " 'to',\n",
              " 'usf,',\n",
              " 'he',\n",
              " 'live',\n",
              " 'around',\n",
              " 'here',\n",
              " 'though']"
            ]
          },
          "metadata": {},
          "execution_count": 21
        }
      ]
    },
    {
      "cell_type": "code",
      "source": [
        "dt['text'][6]"
      ],
      "metadata": {
        "id": "zuYLdks7B9zR",
        "outputId": "16dea402-6a75-4191-ed49-3c5b2f1036b7",
        "colab": {
          "base_uri": "https://localhost:8080/"
        }
      },
      "execution_count": 22,
      "outputs": [
        {
          "output_type": "execute_result",
          "data": {
            "text/plain": [
              "['even',\n",
              " 'my',\n",
              " 'brother',\n",
              " 'is',\n",
              " 'not',\n",
              " 'like',\n",
              " 'to',\n",
              " 'speak',\n",
              " 'with',\n",
              " 'me.',\n",
              " 'they',\n",
              " 'treat',\n",
              " 'me',\n",
              " 'like',\n",
              " 'aid',\n",
              " 'patent.']"
            ]
          },
          "metadata": {},
          "execution_count": 22
        }
      ]
    },
    {
      "cell_type": "code",
      "source": [
        "from nltk.stem import WordNetLemmatizer\n",
        "lemmatizer = WordNetLemmatizer()"
      ],
      "metadata": {
        "id": "EXkVXSlUoMnG"
      },
      "execution_count": 23,
      "outputs": []
    },
    {
      "cell_type": "code",
      "source": [
        "def lemma_it(text):\n",
        "  return [lemmatizer.lemmatize(word, pos='a') for word in text]"
      ],
      "metadata": {
        "id": "RjYGc9nHoWOY"
      },
      "execution_count": 24,
      "outputs": []
    },
    {
      "cell_type": "code",
      "source": [
        "dt['text'][4]"
      ],
      "metadata": {
        "colab": {
          "base_uri": "https://localhost:8080/"
        },
        "id": "dapGBsXopFQO",
        "outputId": "b1bf439d-fdf1-457e-9aba-a4213c4e85b1"
      },
      "execution_count": 25,
      "outputs": [
        {
          "output_type": "execute_result",
          "data": {
            "text/plain": [
              "['nah',\n",
              " 'i',\n",
              " \"don't\",\n",
              " 'think',\n",
              " 'he',\n",
              " 'goe',\n",
              " 'to',\n",
              " 'usf,',\n",
              " 'he',\n",
              " 'live',\n",
              " 'around',\n",
              " 'here',\n",
              " 'though']"
            ]
          },
          "metadata": {},
          "execution_count": 25
        }
      ]
    },
    {
      "cell_type": "code",
      "source": [
        "from nltk.corpus import stopwords\n",
        "\n",
        "nltk.download('stopwords')"
      ],
      "metadata": {
        "colab": {
          "base_uri": "https://localhost:8080/"
        },
        "id": "A4QPGa_gqJK0",
        "outputId": "feb24034-8292-451d-ea1b-ad7a021e1698"
      },
      "execution_count": 26,
      "outputs": [
        {
          "output_type": "stream",
          "name": "stderr",
          "text": [
            "[nltk_data] Downloading package stopwords to /root/nltk_data...\n",
            "[nltk_data]   Unzipping corpora/stopwords.zip.\n"
          ]
        },
        {
          "output_type": "execute_result",
          "data": {
            "text/plain": [
              "True"
            ]
          },
          "metadata": {},
          "execution_count": 26
        }
      ]
    },
    {
      "cell_type": "code",
      "source": [
        "stop_words = stopwords.words(\"english\")"
      ],
      "metadata": {
        "id": "LNOEzC5tqr5T"
      },
      "execution_count": 27,
      "outputs": []
    },
    {
      "cell_type": "code",
      "source": [
        "nltk.download('omw-1.4')\n",
        "\n",
        "\n",
        "\n",
        "\n",
        "\n",
        "\n"
      ],
      "metadata": {
        "colab": {
          "base_uri": "https://localhost:8080/"
        },
        "id": "GEtwN6mxo1DK",
        "outputId": "55db6800-34c6-44d6-ef4d-2238350ae4cb"
      },
      "execution_count": 28,
      "outputs": [
        {
          "output_type": "stream",
          "name": "stderr",
          "text": [
            "[nltk_data] Downloading package omw-1.4 to /root/nltk_data...\n"
          ]
        },
        {
          "output_type": "execute_result",
          "data": {
            "text/plain": [
              "True"
            ]
          },
          "metadata": {},
          "execution_count": 28
        }
      ]
    },
    {
      "cell_type": "code",
      "source": [
        "dt['text'] = dt['text'].apply(lemma_it)"
      ],
      "metadata": {
        "id": "TZelzMJwrPgP"
      },
      "execution_count": 29,
      "outputs": []
    },
    {
      "cell_type": "code",
      "source": [
        "dt['text'][4]"
      ],
      "metadata": {
        "colab": {
          "base_uri": "https://localhost:8080/"
        },
        "id": "bvv8qjaSrcpT",
        "outputId": "d38fb093-9c44-4a07-e760-2e0254f00fac"
      },
      "execution_count": 30,
      "outputs": [
        {
          "output_type": "execute_result",
          "data": {
            "text/plain": [
              "['nah',\n",
              " 'i',\n",
              " \"don't\",\n",
              " 'think',\n",
              " 'he',\n",
              " 'goe',\n",
              " 'to',\n",
              " 'usf,',\n",
              " 'he',\n",
              " 'live',\n",
              " 'around',\n",
              " 'here',\n",
              " 'though']"
            ]
          },
          "metadata": {},
          "execution_count": 30
        }
      ]
    },
    {
      "cell_type": "code",
      "source": [
        "def stop_it(text):\n",
        "  review = [word for word in text if not word in stop_words]\n",
        "  return review"
      ],
      "metadata": {
        "id": "rXQwuTt3sIxu"
      },
      "execution_count": 31,
      "outputs": []
    },
    {
      "cell_type": "code",
      "source": [
        "dt['text'] = dt['text'].apply(stop_it)"
      ],
      "metadata": {
        "id": "IQXur2nGsXA6"
      },
      "execution_count": 32,
      "outputs": []
    },
    {
      "cell_type": "code",
      "source": [
        "dt['text'][4]"
      ],
      "metadata": {
        "colab": {
          "base_uri": "https://localhost:8080/"
        },
        "id": "LBX_L5TDsdUt",
        "outputId": "3ac98546-af9e-4ec7-9566-7a9531501242"
      },
      "execution_count": 33,
      "outputs": [
        {
          "output_type": "execute_result",
          "data": {
            "text/plain": [
              "['nah', 'think', 'goe', 'usf,', 'live', 'around', 'though']"
            ]
          },
          "metadata": {},
          "execution_count": 33
        }
      ]
    },
    {
      "cell_type": "code",
      "source": [
        "dt.head()"
      ],
      "metadata": {
        "colab": {
          "base_uri": "https://localhost:8080/",
          "height": 206
        },
        "id": "_dBjBzwjssdP",
        "outputId": "ce2da6a5-e44a-4fab-840e-df62f31d9fc9"
      },
      "execution_count": 34,
      "outputs": [
        {
          "output_type": "execute_result",
          "data": {
            "text/plain": [
              "   type                                               text  spam\n",
              "0   ham  [go, jurong, point,, crazy.., avail, onli, bug...     0\n",
              "1   ham                 [ok, lar..., joke, wif, u, oni...]     0\n",
              "2  spam  [free, entri, 2, wkli, comp, win, fa, cup, fin...     1\n",
              "3   ham  [u, dun, say, earli, hor..., u, c, alreadi, sa...     0\n",
              "4   ham      [nah, think, goe, usf,, live, around, though]     0"
            ],
            "text/html": [
              "\n",
              "  <div id=\"df-ca5c81bb-aa49-4d45-8d46-c7a9acca168f\">\n",
              "    <div class=\"colab-df-container\">\n",
              "      <div>\n",
              "<style scoped>\n",
              "    .dataframe tbody tr th:only-of-type {\n",
              "        vertical-align: middle;\n",
              "    }\n",
              "\n",
              "    .dataframe tbody tr th {\n",
              "        vertical-align: top;\n",
              "    }\n",
              "\n",
              "    .dataframe thead th {\n",
              "        text-align: right;\n",
              "    }\n",
              "</style>\n",
              "<table border=\"1\" class=\"dataframe\">\n",
              "  <thead>\n",
              "    <tr style=\"text-align: right;\">\n",
              "      <th></th>\n",
              "      <th>type</th>\n",
              "      <th>text</th>\n",
              "      <th>spam</th>\n",
              "    </tr>\n",
              "  </thead>\n",
              "  <tbody>\n",
              "    <tr>\n",
              "      <th>0</th>\n",
              "      <td>ham</td>\n",
              "      <td>[go, jurong, point,, crazy.., avail, onli, bug...</td>\n",
              "      <td>0</td>\n",
              "    </tr>\n",
              "    <tr>\n",
              "      <th>1</th>\n",
              "      <td>ham</td>\n",
              "      <td>[ok, lar..., joke, wif, u, oni...]</td>\n",
              "      <td>0</td>\n",
              "    </tr>\n",
              "    <tr>\n",
              "      <th>2</th>\n",
              "      <td>spam</td>\n",
              "      <td>[free, entri, 2, wkli, comp, win, fa, cup, fin...</td>\n",
              "      <td>1</td>\n",
              "    </tr>\n",
              "    <tr>\n",
              "      <th>3</th>\n",
              "      <td>ham</td>\n",
              "      <td>[u, dun, say, earli, hor..., u, c, alreadi, sa...</td>\n",
              "      <td>0</td>\n",
              "    </tr>\n",
              "    <tr>\n",
              "      <th>4</th>\n",
              "      <td>ham</td>\n",
              "      <td>[nah, think, goe, usf,, live, around, though]</td>\n",
              "      <td>0</td>\n",
              "    </tr>\n",
              "  </tbody>\n",
              "</table>\n",
              "</div>\n",
              "      <button class=\"colab-df-convert\" onclick=\"convertToInteractive('df-ca5c81bb-aa49-4d45-8d46-c7a9acca168f')\"\n",
              "              title=\"Convert this dataframe to an interactive table.\"\n",
              "              style=\"display:none;\">\n",
              "        \n",
              "  <svg xmlns=\"http://www.w3.org/2000/svg\" height=\"24px\"viewBox=\"0 0 24 24\"\n",
              "       width=\"24px\">\n",
              "    <path d=\"M0 0h24v24H0V0z\" fill=\"none\"/>\n",
              "    <path d=\"M18.56 5.44l.94 2.06.94-2.06 2.06-.94-2.06-.94-.94-2.06-.94 2.06-2.06.94zm-11 1L8.5 8.5l.94-2.06 2.06-.94-2.06-.94L8.5 2.5l-.94 2.06-2.06.94zm10 10l.94 2.06.94-2.06 2.06-.94-2.06-.94-.94-2.06-.94 2.06-2.06.94z\"/><path d=\"M17.41 7.96l-1.37-1.37c-.4-.4-.92-.59-1.43-.59-.52 0-1.04.2-1.43.59L10.3 9.45l-7.72 7.72c-.78.78-.78 2.05 0 2.83L4 21.41c.39.39.9.59 1.41.59.51 0 1.02-.2 1.41-.59l7.78-7.78 2.81-2.81c.8-.78.8-2.07 0-2.86zM5.41 20L4 18.59l7.72-7.72 1.47 1.35L5.41 20z\"/>\n",
              "  </svg>\n",
              "      </button>\n",
              "      \n",
              "  <style>\n",
              "    .colab-df-container {\n",
              "      display:flex;\n",
              "      flex-wrap:wrap;\n",
              "      gap: 12px;\n",
              "    }\n",
              "\n",
              "    .colab-df-convert {\n",
              "      background-color: #E8F0FE;\n",
              "      border: none;\n",
              "      border-radius: 50%;\n",
              "      cursor: pointer;\n",
              "      display: none;\n",
              "      fill: #1967D2;\n",
              "      height: 32px;\n",
              "      padding: 0 0 0 0;\n",
              "      width: 32px;\n",
              "    }\n",
              "\n",
              "    .colab-df-convert:hover {\n",
              "      background-color: #E2EBFA;\n",
              "      box-shadow: 0px 1px 2px rgba(60, 64, 67, 0.3), 0px 1px 3px 1px rgba(60, 64, 67, 0.15);\n",
              "      fill: #174EA6;\n",
              "    }\n",
              "\n",
              "    [theme=dark] .colab-df-convert {\n",
              "      background-color: #3B4455;\n",
              "      fill: #D2E3FC;\n",
              "    }\n",
              "\n",
              "    [theme=dark] .colab-df-convert:hover {\n",
              "      background-color: #434B5C;\n",
              "      box-shadow: 0px 1px 3px 1px rgba(0, 0, 0, 0.15);\n",
              "      filter: drop-shadow(0px 1px 2px rgba(0, 0, 0, 0.3));\n",
              "      fill: #FFFFFF;\n",
              "    }\n",
              "  </style>\n",
              "\n",
              "      <script>\n",
              "        const buttonEl =\n",
              "          document.querySelector('#df-ca5c81bb-aa49-4d45-8d46-c7a9acca168f button.colab-df-convert');\n",
              "        buttonEl.style.display =\n",
              "          google.colab.kernel.accessAllowed ? 'block' : 'none';\n",
              "\n",
              "        async function convertToInteractive(key) {\n",
              "          const element = document.querySelector('#df-ca5c81bb-aa49-4d45-8d46-c7a9acca168f');\n",
              "          const dataTable =\n",
              "            await google.colab.kernel.invokeFunction('convertToInteractive',\n",
              "                                                     [key], {});\n",
              "          if (!dataTable) return;\n",
              "\n",
              "          const docLinkHtml = 'Like what you see? Visit the ' +\n",
              "            '<a target=\"_blank\" href=https://colab.research.google.com/notebooks/data_table.ipynb>data table notebook</a>'\n",
              "            + ' to learn more about interactive tables.';\n",
              "          element.innerHTML = '';\n",
              "          dataTable['output_type'] = 'display_data';\n",
              "          await google.colab.output.renderOutput(dataTable, element);\n",
              "          const docLink = document.createElement('div');\n",
              "          docLink.innerHTML = docLinkHtml;\n",
              "          element.appendChild(docLink);\n",
              "        }\n",
              "      </script>\n",
              "    </div>\n",
              "  </div>\n",
              "  "
            ]
          },
          "metadata": {},
          "execution_count": 34
        }
      ]
    },
    {
      "cell_type": "code",
      "source": [
        "dt['text'] = dt['text'].apply(' '.join)"
      ],
      "metadata": {
        "id": "Jf5GHT9Ist0r"
      },
      "execution_count": 35,
      "outputs": []
    },
    {
      "cell_type": "code",
      "source": [
        "dt.head(10)"
      ],
      "metadata": {
        "colab": {
          "base_uri": "https://localhost:8080/",
          "height": 363
        },
        "id": "dL7DUhF_s1NU",
        "outputId": "76c20c81-c973-41b8-d62a-ef9b43bb3fda"
      },
      "execution_count": 36,
      "outputs": [
        {
          "output_type": "execute_result",
          "data": {
            "text/plain": [
              "   type                                               text  spam\n",
              "0   ham  go jurong point, crazy.. avail onli bugi n gre...     0\n",
              "1   ham                        ok lar... joke wif u oni...     0\n",
              "2  spam  free entri 2 wkli comp win fa cup final tkts 2...     1\n",
              "3   ham          u dun say earli hor... u c alreadi say...     0\n",
              "4   ham              nah think goe usf, live around though     0\n",
              "5  spam  freemsg hey darl 3 week word back! i'd like fu...     1\n",
              "6   ham  even brother like speak me. treat like aid pat...     0\n",
              "7   ham  per request mell mell (oru minnaminungint nuru...     0\n",
              "8  spam  winner!! valu network custom select receivea â...     1\n",
              "9  spam  mobil 11 month more? u r entitl updat late col...     1"
            ],
            "text/html": [
              "\n",
              "  <div id=\"df-df7c790f-257a-4d76-98b4-6dd65af82c7c\">\n",
              "    <div class=\"colab-df-container\">\n",
              "      <div>\n",
              "<style scoped>\n",
              "    .dataframe tbody tr th:only-of-type {\n",
              "        vertical-align: middle;\n",
              "    }\n",
              "\n",
              "    .dataframe tbody tr th {\n",
              "        vertical-align: top;\n",
              "    }\n",
              "\n",
              "    .dataframe thead th {\n",
              "        text-align: right;\n",
              "    }\n",
              "</style>\n",
              "<table border=\"1\" class=\"dataframe\">\n",
              "  <thead>\n",
              "    <tr style=\"text-align: right;\">\n",
              "      <th></th>\n",
              "      <th>type</th>\n",
              "      <th>text</th>\n",
              "      <th>spam</th>\n",
              "    </tr>\n",
              "  </thead>\n",
              "  <tbody>\n",
              "    <tr>\n",
              "      <th>0</th>\n",
              "      <td>ham</td>\n",
              "      <td>go jurong point, crazy.. avail onli bugi n gre...</td>\n",
              "      <td>0</td>\n",
              "    </tr>\n",
              "    <tr>\n",
              "      <th>1</th>\n",
              "      <td>ham</td>\n",
              "      <td>ok lar... joke wif u oni...</td>\n",
              "      <td>0</td>\n",
              "    </tr>\n",
              "    <tr>\n",
              "      <th>2</th>\n",
              "      <td>spam</td>\n",
              "      <td>free entri 2 wkli comp win fa cup final tkts 2...</td>\n",
              "      <td>1</td>\n",
              "    </tr>\n",
              "    <tr>\n",
              "      <th>3</th>\n",
              "      <td>ham</td>\n",
              "      <td>u dun say earli hor... u c alreadi say...</td>\n",
              "      <td>0</td>\n",
              "    </tr>\n",
              "    <tr>\n",
              "      <th>4</th>\n",
              "      <td>ham</td>\n",
              "      <td>nah think goe usf, live around though</td>\n",
              "      <td>0</td>\n",
              "    </tr>\n",
              "    <tr>\n",
              "      <th>5</th>\n",
              "      <td>spam</td>\n",
              "      <td>freemsg hey darl 3 week word back! i'd like fu...</td>\n",
              "      <td>1</td>\n",
              "    </tr>\n",
              "    <tr>\n",
              "      <th>6</th>\n",
              "      <td>ham</td>\n",
              "      <td>even brother like speak me. treat like aid pat...</td>\n",
              "      <td>0</td>\n",
              "    </tr>\n",
              "    <tr>\n",
              "      <th>7</th>\n",
              "      <td>ham</td>\n",
              "      <td>per request mell mell (oru minnaminungint nuru...</td>\n",
              "      <td>0</td>\n",
              "    </tr>\n",
              "    <tr>\n",
              "      <th>8</th>\n",
              "      <td>spam</td>\n",
              "      <td>winner!! valu network custom select receivea â...</td>\n",
              "      <td>1</td>\n",
              "    </tr>\n",
              "    <tr>\n",
              "      <th>9</th>\n",
              "      <td>spam</td>\n",
              "      <td>mobil 11 month more? u r entitl updat late col...</td>\n",
              "      <td>1</td>\n",
              "    </tr>\n",
              "  </tbody>\n",
              "</table>\n",
              "</div>\n",
              "      <button class=\"colab-df-convert\" onclick=\"convertToInteractive('df-df7c790f-257a-4d76-98b4-6dd65af82c7c')\"\n",
              "              title=\"Convert this dataframe to an interactive table.\"\n",
              "              style=\"display:none;\">\n",
              "        \n",
              "  <svg xmlns=\"http://www.w3.org/2000/svg\" height=\"24px\"viewBox=\"0 0 24 24\"\n",
              "       width=\"24px\">\n",
              "    <path d=\"M0 0h24v24H0V0z\" fill=\"none\"/>\n",
              "    <path d=\"M18.56 5.44l.94 2.06.94-2.06 2.06-.94-2.06-.94-.94-2.06-.94 2.06-2.06.94zm-11 1L8.5 8.5l.94-2.06 2.06-.94-2.06-.94L8.5 2.5l-.94 2.06-2.06.94zm10 10l.94 2.06.94-2.06 2.06-.94-2.06-.94-.94-2.06-.94 2.06-2.06.94z\"/><path d=\"M17.41 7.96l-1.37-1.37c-.4-.4-.92-.59-1.43-.59-.52 0-1.04.2-1.43.59L10.3 9.45l-7.72 7.72c-.78.78-.78 2.05 0 2.83L4 21.41c.39.39.9.59 1.41.59.51 0 1.02-.2 1.41-.59l7.78-7.78 2.81-2.81c.8-.78.8-2.07 0-2.86zM5.41 20L4 18.59l7.72-7.72 1.47 1.35L5.41 20z\"/>\n",
              "  </svg>\n",
              "      </button>\n",
              "      \n",
              "  <style>\n",
              "    .colab-df-container {\n",
              "      display:flex;\n",
              "      flex-wrap:wrap;\n",
              "      gap: 12px;\n",
              "    }\n",
              "\n",
              "    .colab-df-convert {\n",
              "      background-color: #E8F0FE;\n",
              "      border: none;\n",
              "      border-radius: 50%;\n",
              "      cursor: pointer;\n",
              "      display: none;\n",
              "      fill: #1967D2;\n",
              "      height: 32px;\n",
              "      padding: 0 0 0 0;\n",
              "      width: 32px;\n",
              "    }\n",
              "\n",
              "    .colab-df-convert:hover {\n",
              "      background-color: #E2EBFA;\n",
              "      box-shadow: 0px 1px 2px rgba(60, 64, 67, 0.3), 0px 1px 3px 1px rgba(60, 64, 67, 0.15);\n",
              "      fill: #174EA6;\n",
              "    }\n",
              "\n",
              "    [theme=dark] .colab-df-convert {\n",
              "      background-color: #3B4455;\n",
              "      fill: #D2E3FC;\n",
              "    }\n",
              "\n",
              "    [theme=dark] .colab-df-convert:hover {\n",
              "      background-color: #434B5C;\n",
              "      box-shadow: 0px 1px 3px 1px rgba(0, 0, 0, 0.15);\n",
              "      filter: drop-shadow(0px 1px 2px rgba(0, 0, 0, 0.3));\n",
              "      fill: #FFFFFF;\n",
              "    }\n",
              "  </style>\n",
              "\n",
              "      <script>\n",
              "        const buttonEl =\n",
              "          document.querySelector('#df-df7c790f-257a-4d76-98b4-6dd65af82c7c button.colab-df-convert');\n",
              "        buttonEl.style.display =\n",
              "          google.colab.kernel.accessAllowed ? 'block' : 'none';\n",
              "\n",
              "        async function convertToInteractive(key) {\n",
              "          const element = document.querySelector('#df-df7c790f-257a-4d76-98b4-6dd65af82c7c');\n",
              "          const dataTable =\n",
              "            await google.colab.kernel.invokeFunction('convertToInteractive',\n",
              "                                                     [key], {});\n",
              "          if (!dataTable) return;\n",
              "\n",
              "          const docLinkHtml = 'Like what you see? Visit the ' +\n",
              "            '<a target=\"_blank\" href=https://colab.research.google.com/notebooks/data_table.ipynb>data table notebook</a>'\n",
              "            + ' to learn more about interactive tables.';\n",
              "          element.innerHTML = '';\n",
              "          dataTable['output_type'] = 'display_data';\n",
              "          await google.colab.output.renderOutput(dataTable, element);\n",
              "          const docLink = document.createElement('div');\n",
              "          docLink.innerHTML = docLinkHtml;\n",
              "          element.appendChild(docLink);\n",
              "        }\n",
              "      </script>\n",
              "    </div>\n",
              "  </div>\n",
              "  "
            ]
          },
          "metadata": {},
          "execution_count": 36
        }
      ]
    },
    {
      "cell_type": "code",
      "source": [
        "#vectorization"
      ],
      "metadata": {
        "id": "AL8iC0eLs53F"
      },
      "execution_count": 37,
      "outputs": []
    },
    {
      "cell_type": "code",
      "source": [
        "from sklearn.feature_extraction.text import TfidfVectorizer\n",
        "tfidf=TfidfVectorizer()\n",
        "y=dt.spam.values\n",
        "x=tfidf.fit_transform(dt['text'])\n"
      ],
      "metadata": {
        "id": "nWY-MWi4pQRP"
      },
      "execution_count": 41,
      "outputs": []
    },
    {
      "cell_type": "code",
      "source": [
        "from sklearn.model_selection import train_test_split\n",
        "x_train, x_test, y_train, y_test= train_test_split(x,y,random_state=1, test_size=0.2, shuffle=False)"
      ],
      "metadata": {
        "id": "5hjCVVXPd9Is"
      },
      "execution_count": 42,
      "outputs": []
    },
    {
      "cell_type": "code",
      "source": [
        "scaler = StandardScaler()\n"
      ],
      "metadata": {
        "id": "FLyODyHgaGJv"
      },
      "execution_count": 43,
      "outputs": []
    },
    {
      "cell_type": "code",
      "source": [
        "inp_data_as_np = np.asarray(dt)"
      ],
      "metadata": {
        "id": "5HhSqg4VajVg"
      },
      "execution_count": 44,
      "outputs": []
    },
    {
      "cell_type": "code",
      "source": [
        "inp_data_reshape = inp_data_as_np.reshape(1,-1)\n",
        "print(inp_data_reshape)"
      ],
      "metadata": {
        "colab": {
          "base_uri": "https://localhost:8080/"
        },
        "id": "Oczr48VtbqLK",
        "outputId": "a7713d9c-2132-4e9a-d2a0-94015d9762d0"
      },
      "execution_count": 45,
      "outputs": [
        {
          "output_type": "stream",
          "name": "stdout",
          "text": [
            "[['ham'\n",
            "  'go jurong point, crazy.. avail onli bugi n great world la e buffet... cine got amor wat...'\n",
            "  0 'ham' 'ok lar... joke wif u oni...' 0 'spam'\n",
            "  'free entri 2 wkli comp win fa cup final tkts 21st may 2005. text fa 87121 receiv entri question(std txt rate)t&c appli 08452810075over18'\n",
            "  1 'ham' 'u dun say earli hor... u c alreadi say...' 0 'ham'\n",
            "  'nah think goe usf, live around though' 0 'spam'\n",
            "  \"freemsg hey darl 3 week word back! i'd like fun still? tb ok! xxx std chgs send, â£1.50 rcv\"\n",
            "  1 'ham' 'even brother like speak me. treat like aid patent.' 0 'ham'\n",
            "  'per request mell mell (oru minnaminungint nurungu vettam) set callertun callers. press *9 copi friend callertun'\n",
            "  0 'spam'\n",
            "  'winner!! valu network custom select receivea â£900 prize reward! claim call 09061701461. claim code kl341. valid 12 hour only.'\n",
            "  1 'spam'\n",
            "  'mobil 11 month more? u r entitl updat late colour mobil camera free! call mobil updat co free 08002986030'\n",
            "  1 'ham'\n",
            "  \"i'm gonna home soon want talk stuff anymor tonight, k? i'v cri enough today.\"\n",
            "  0 'spam'\n",
            "  'six chanc win cash! 100 20,000 pound txt> csh11 send 87575. cost 150p/day, 6days, 16+ tsandc appli repli hl 4 info'\n",
            "  1 'spam'\n",
            "  'urgent! 1 week free membership â£100,000 prize jackpot! txt word: claim no: 81010 t&c www.dbuk.net lccltd pobox 4403ldnw1a7rw18'\n",
            "  1 'ham'\n",
            "  \"i'v search right word thank breather. promis wont take help grant fulfil promise. wonder bless times.\"\n",
            "  0 'ham' 'date sunday will!!' 0 'spam'\n",
            "  'xxxmobilemovieclub: use credit, click wap link next txt messag click here>> http://wap. xxxmobilemovieclub.com?n=qjkgighjjgcbl'\n",
            "  1 'ham' \"oh k...i'm watch here:)\" 0 'ham'\n",
            "  'eh u rememb 2 spell name... yes did. v naughti make v wet.' 0 'ham'\n",
            "  'fine way u feel. way gota b' 0 'spam'\n",
            "  'england v macedonia - dont miss goals/team news. txt ur nation team 87077 eg england 87077 try:wales, scotland 4txt/ãº1.20 poboxox36504w45wq 16+'\n",
            "  1 'ham' 'serious spell name?' 0 'ham'\n",
            "  'iâ€˜m go tri 2 month ha ha onli joke' 0 'ham'\n",
            "  'ã¼ pay first lar... da stock comin...' 0 'ham'\n",
            "  'aft finish lunch go str lor. ard 3 smth lor. u finish ur lunch already?'\n",
            "  0 'ham' 'ffffffffff. alright way meet sooner?' 0 'ham'\n",
            "  \"forc eat slice. i'm realli hungri tho. sucks. mark get worried. know i'm sick turn pizza. lol\"\n",
            "  0 'ham' 'lol alway convincing.' 0 'ham'\n",
            "  'catch bus ? fri egg ? make tea? eat mom left dinner ? feel love ?' 0\n",
            "  'ham' \"i'm back &amp; we'r pack car now, i'll let know room\" 0 'ham'\n",
            "  'ahhh. work. vagu rememb that! doe feel like? lol' 0 'ham'\n",
            "  'wait still clear, sure sarcast whi x want live us' 0 'ham'\n",
            "  'yeah got 2 v apologetic. n fallen actin like spoilt child got caught that. till 2! go there! bad cheers. you?'\n",
            "  0 'ham' 'k tell anyth you.' 0 'ham'\n",
            "  'fear faint housework did? quick cuppa' 0 'spam'\n",
            "  'thank subscript rington uk mobil charg â£5/month pleas confirm repli yes no. repli charg'\n",
            "  1 'ham'\n",
            "  'yup... ok go home look time msg ã¼ again... xuhui go learn 2nd may lesson 8am'\n",
            "  0 'ham' \"oops, i'll let know roommat done\" 0 'ham' 'see letter b car' 0\n",
            "  'ham' 'anyth lor... u decide...' 0 'ham'\n",
            "  \"hello! saturday go? text see decid anyth tomo. i'm tri invit anything!\"\n",
            "  0 'ham' 'pls go ahead watts. want sure. great weekend. abiola' 0 'ham'\n",
            "  'forget tell ? want , need you, crave ... ... love sweet arabian steed ... mmmmmm ... yummi'\n",
            "  0 'spam'\n",
            "  '07732584351 - rodger burn - msg = tri call repli sms free nokia mobil + free camcorder. pleas call 08000930705 deliveri tomorrow'\n",
            "  1 'ham' 'seeing?' 0 'ham'\n",
            "  'great! hope like man well endowed. &lt;#&gt; inches...' 0 'ham'\n",
            "  'calls..messages..miss call' 0 'ham' 'get hep b immunis nigeria.' 0\n",
            "  'ham' 'fair enough, anyth go on?' 0 'ham'\n",
            "  \"yeah hopefully, tyler can't could mayb ask around bit\" 0 'ham'\n",
            "  \"u know stubborn am. even want go hospital. kept tell mark i'm weak sucker. hospit weak suckers.\"\n",
            "  0 'ham' 'think me. first time saw class.' 0 'ham'\n",
            "  'gram usual run like &lt;#&gt; , half eighth smart though get almost whole second gram &lt;#&gt;'\n",
            "  0 'ham' 'k fyi x ride earli tomorrow morn crash place tonight' 0 'ham'\n",
            "  'wow. never realiz embarass accomodations. thought like it, sinc best could alway seem happi \"the cave\". i\\'m sorri give. i\\'m sorri offered. i\\'m sorri room embarassing.'\n",
            "  0 'spam'\n",
            "  'sms. ac sptv: new jersey devil detroit red wing play ice hockey. correct incorrect? end? repli end sptv'\n",
            "  1 'ham' 'know mallika sherawat yesterday? find @ &lt;url&gt;' 0 'spam'\n",
            "  'congrats! 1 year special cinema pass 2 yours. call 09061209465 now! c suprman v, matrix3, starwars3, etc 4 free! bx420-ip4-5we. 150pm. dont miss out!'\n",
            "  1 'ham' \"sorry, i'll call late meeting.\" 0 'ham' 'tell reach' 0 'ham'\n",
            "  'yes..gauti sehwag odi series.' 0 'ham'\n",
            "  \"gonna pick $1 burger way home. can't even move. pain kill me.\" 0 'ham'\n",
            "  'ha ha ha good joke. girl situat seekers.' 0 'ham' 'part check iq' 0\n",
            "  'ham' 'sorri roommat took forever, ok come now?' 0 'ham'\n",
            "  'ok lar doubl check wif da hair dresser alreadi said wun cut v short. said cut look nice.'\n",
            "  0 'spam'\n",
            "  'valu customer, pleas advis follow recent review mob no. award â£1500 bonus prize, call 09066364589'\n",
            "  1 'ham'\n",
            "  'today \"song dedic day..\" song u dedic me? send ur valuabl frnds first rpli me...'\n",
            "  0 'spam'\n",
            "  'urgent ur award complimentari trip eurodisinc trav, aco&entry41 â£1000. claim txt dis 87121 18+6*â£1.50(morefrmmob. shracomorsglsuplt)10, ls1 3aj'\n",
            "  1 'spam' 'hear new \"divorc barbie\"? come ken stuff!' 1 'ham'\n",
            "  'plane give month end.' 0 'ham' 'wah lucki man... save money... hee...'\n",
            "  0 'ham' 'finish class you.' 0 'ham'\n",
            "  'hi babe im home wanna something? xx' 0 'ham'\n",
            "  'k..k:)where you?how performed?' 0 'ham' 'u call now...' 0 'ham'\n",
            "  'wait machan. call onc free.' 0 'ham'\n",
            "  'cool. gentleman treat digniti respect.' 0 'ham'\n",
            "  'like peopl veri much:) veri shi pa.' 0 'ham' 'doe oper &lt;#&gt;' 0\n",
            "  'ham' 'here. still look job. much ta earn there.' 0 'ham'\n",
            "  \"sorry, i'll call late\" 0 'ham' 'k. call ah?' 0 'ham'\n",
            "  'ok way home hi hi' 0 'ham' 'place man' 0 'ham' 'yup next stop.' 0\n",
            "  'ham' 'call later, network. urgnt, sms me.' 0 'ham'\n",
            "  \"real u get yo? onli need 2 ticket one jacket i'm done. alreadi use multis.\"\n",
            "  0 'ham'\n",
            "  \"yes start send request make pain came back i'm back bed. doubl coin factori too. gotta cash nitros.\"\n",
            "  0 'ham' \"i'm realli still tonight babe\" 0 'ham'\n",
            "  'ela kano.,il download, come wen ur free..' 0 'ham'\n",
            "  'yeah do! donâ€˜t stand close tho- youâ€˜ll catch something!' 0 'ham'\n",
            "  'sorri pain. ok meet anoth night? spent late afternoon casualti mean done ani stuff42moro includ time sheet that. sorry.'\n",
            "  0 'ham'\n",
            "  'smile pleasur smile pain smile troubl pour like rain smile sum1 hurt u smile becoz someon still love see u smiling!!'\n",
            "  0 'spam'\n",
            "  'pleas call custom servic repres 0800 169 6031 10am-9pm guarante â£1000 cash â£5000 prize!'\n",
            "  1 'ham'\n",
            "  'havent plan buy later. check alreadi lido onli got 530 show e afternoon. u finish work already?'\n",
            "  0 'spam'\n",
            "  'free rington wait collected. simpli text password \"mix\" 85069 verify. get usher britney. fml, po box 5249, mk17 92h. 450ppw 16'\n",
            "  1 'ham' 'watch telugu movie..wat abt u?' 0 'ham'\n",
            "  'see. finish load loan pay' 0 'ham'\n",
            "  'hi. wk ok - hol now! yes bit run. forgot hairdress appoint four need get home n shower beforehand. doe caus prob u?\"'\n",
            "  0 'ham' 'see cup coffe anim' 0 'ham'\n",
            "  'pleas text anymore. noth els say.' 0 'ham'\n",
            "  'okay name ur price long legal! wen pick up? u ave x xx' 0 'ham'\n",
            "  \"i'm still look car buy. gone 4the drive test yet.\" 0 'ham'\n",
            "  'per request mell mell (oru minnaminungint nurungu vettam) set callertun callers. press *9 copi friend callertun'\n",
            "  0 'ham'\n",
            "  \"wow. you'r right! mean that. guess onc gave boston men chang search locat nyc, someth changed. cuz signin page still say boston.\"\n",
            "  0 'ham' 'umma life vava umma love lot dear' 0 'ham'\n",
            "  'thank lot wish birthday. thank make birthday truli memorable.' 0 'ham'\n",
            "  \"aight, i'll hit get cash\" 0 'ham'\n",
            "  'would ip address test consid comput minecraft server' 0 'ham'\n",
            "  'know! grumpi old people. mom like good lying. alway one play jokes...'\n",
            "  0 'ham' 'dont worry. guess busy.' 0 'ham' 'plural noun research?' 0\n",
            "  'ham' 'go dinner.msg after.' 0 'ham'\n",
            "  \"i'm ok wif cos like 2 tri new things. scare u dun like mah. cos u said loud.\"\n",
            "  0 'spam'\n",
            "  'gent! tri contact you. last weekend draw show â£1000 prize guaranteed. call 09064012160. claim code k52. valid 12hrs only. 150ppm'\n",
            "  1 'ham' 'wa, ur openin sentenc veri' 0]]\n"
          ]
        }
      ]
    },
    {
      "cell_type": "code",
      "source": [],
      "metadata": {
        "id": "ZNmvfu5ecns7"
      },
      "execution_count": null,
      "outputs": []
    },
    {
      "cell_type": "code",
      "source": [
        "#classification using Logistic Regression"
      ],
      "metadata": {
        "id": "CfQ54DjwuZIV"
      },
      "execution_count": null,
      "outputs": []
    },
    {
      "cell_type": "code",
      "source": [
        "from sklearn.linear_model import LogisticRegression\n",
        "clf = LogisticRegression()\n",
        "clf.fit(x_train, y_train)\n",
        "y_pred = clf.predict(x_test)\n",
        "from sklearn.metrics import accuracy_score\n",
        "acc_log= accuracy_score(y_pred, y_test)*100\n",
        "print(\"accuracy:\", acc_log)"
      ],
      "metadata": {
        "colab": {
          "base_uri": "https://localhost:8080/"
        },
        "id": "AOMqPtMItlDj",
        "outputId": "f5a408ba-3444-4b6d-8e48-1be3856e5eeb"
      },
      "execution_count": 48,
      "outputs": [
        {
          "output_type": "stream",
          "name": "stdout",
          "text": [
            "accuracy: 87.5\n"
          ]
        }
      ]
    },
    {
      "cell_type": "code",
      "source": [
        "dt['text'][5]"
      ],
      "metadata": {
        "colab": {
          "base_uri": "https://localhost:8080/",
          "height": 35
        },
        "id": "WZcWuMhtvnH-",
        "outputId": "dc6faf2e-ff24-4c7e-b964-d4ab6d3901f4"
      },
      "execution_count": 49,
      "outputs": [
        {
          "output_type": "execute_result",
          "data": {
            "text/plain": [
              "\"freemsg hey darl 3 week word back! i'd like fun still? tb ok! xxx std chgs send, â£1.50 rcv\""
            ],
            "application/vnd.google.colaboratory.intrinsic+json": {
              "type": "string"
            }
          },
          "metadata": {},
          "execution_count": 49
        }
      ]
    },
    {
      "cell_type": "code",
      "source": [
        "dt['text'][4]"
      ],
      "metadata": {
        "colab": {
          "base_uri": "https://localhost:8080/",
          "height": 35
        },
        "id": "zXxoDAz_vpSv",
        "outputId": "f897c50f-6c62-44f3-f730-3ac227d29fbc"
      },
      "execution_count": 50,
      "outputs": [
        {
          "output_type": "execute_result",
          "data": {
            "text/plain": [
              "'nah think goe usf, live around though'"
            ],
            "application/vnd.google.colaboratory.intrinsic+json": {
              "type": "string"
            }
          },
          "metadata": {},
          "execution_count": 50
        }
      ]
    },
    {
      "cell_type": "code",
      "source": [
        "dt['text'][11]"
      ],
      "metadata": {
        "colab": {
          "base_uri": "https://localhost:8080/",
          "height": 35
        },
        "id": "540Wwc_uv_-V",
        "outputId": "a4c61243-22c4-4ff2-8290-dd83a8dd9c79"
      },
      "execution_count": 51,
      "outputs": [
        {
          "output_type": "execute_result",
          "data": {
            "text/plain": [
              "'six chanc win cash! 100 20,000 pound txt> csh11 send 87575. cost 150p/day, 6days, 16+ tsandc appli repli hl 4 info'"
            ],
            "application/vnd.google.colaboratory.intrinsic+json": {
              "type": "string"
            }
          },
          "metadata": {},
          "execution_count": 51
        }
      ]
    },
    {
      "cell_type": "code",
      "source": [],
      "metadata": {
        "id": "TE9Kq4vbwBxn"
      },
      "execution_count": null,
      "outputs": []
    }
  ]
}